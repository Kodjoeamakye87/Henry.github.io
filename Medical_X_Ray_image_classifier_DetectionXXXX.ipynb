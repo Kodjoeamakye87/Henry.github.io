{
  "nbformat": 4,
  "nbformat_minor": 0,
  "metadata": {
    "colab": {
      "provenance": [],
      "mount_file_id": "1UcVRPiL-8IvBFlOV27NLeNCqSuNvDZnj",
      "authorship_tag": "ABX9TyOEN6i7wrecO//XvISC98df",
      "include_colab_link": true
    },
    "kernelspec": {
      "name": "python3",
      "display_name": "Python 3"
    },
    "language_info": {
      "name": "python"
    }
  },
  "cells": [
    {
      "cell_type": "markdown",
      "metadata": {
        "id": "view-in-github",
        "colab_type": "text"
      },
      "source": [
        "<a href=\"https://colab.research.google.com/github/Kodjoeamakye87/Henry.github.io/blob/main/Medical_X_Ray_image_classifier_DetectionXXXX.ipynb\" target=\"_parent\"><img src=\"https://colab.research.google.com/assets/colab-badge.svg\" alt=\"Open In Colab\"/></a>"
      ]
    },
    {
      "cell_type": "code",
      "execution_count": null,
      "metadata": {
        "id": "H7kEa1owIt-Z"
      },
      "outputs": [],
      "source": [
        "import tensorflow as tf\n",
        "from keras.utils import image_dataset_from_directory"
      ]
    },
    {
      "cell_type": "markdown",
      "source": [
        "# Part 1 - Data preprocessing"
      ],
      "metadata": {
        "id": "CPh5dQmbI7Lw"
      }
    },
    {
      "cell_type": "markdown",
      "source": [
        "preprocessing the training set"
      ],
      "metadata": {
        "id": "ghN2nZqOJEVN"
      }
    },
    {
      "cell_type": "code",
      "source": [
        "training_set = tf.keras.utils.image_dataset_from_directory(\n",
        "\n",
        "    '/content/drive/MyDrive/Training/Dataset/Medical X-Ray Image Classifier Pneumonia Detection/chest_xray/train',\n",
        "    labels = 'inferred',\n",
        "    label_mode = 'binary',\n",
        "    image_size = (64, 64),\n",
        "    batch_size = 32,\n",
        "    shuffle = True\n",
        ")\n",
        "\n",
        "data_augmentation = tf.keras.Sequential([\n",
        "    tf.keras.layers.Rescaling(1./255),\n",
        "    tf.keras.layers.RandomFlip('horizontal'),\n",
        "    tf.keras.layers.RandomRotation(0.2),\n",
        "    tf.keras.layers.RandomZoom(0.2)\n",
        "])"
      ],
      "metadata": {
        "colab": {
          "base_uri": "https://localhost:8080/"
        },
        "id": "cVjEdAv2JIux",
        "outputId": "9e936c5c-6d9f-4606-dba3-73db8f1fa843"
      },
      "execution_count": null,
      "outputs": [
        {
          "output_type": "stream",
          "name": "stdout",
          "text": [
            "Found 5216 files belonging to 2 classes.\n"
          ]
        }
      ]
    },
    {
      "cell_type": "markdown",
      "source": [
        "preprocessing the test_set"
      ],
      "metadata": {
        "id": "aPzvfubRKhln"
      }
    },
    {
      "cell_type": "code",
      "source": [
        "test_set = tf.keras.utils.image_dataset_from_directory(\n",
        "    '/content/drive/MyDrive/Training/Dataset/Medical X-Ray Image Classifier Pneumonia Detection/chest_xray/test',\n",
        "    labels = 'inferred',\n",
        "    label_mode = 'binary',\n",
        "    image_size = (64, 64),\n",
        "    batch_size = 32,\n",
        "    shuffle = False\n",
        ")\n",
        "\n",
        "normalization_set = tf.keras.layers.Rescaling(1./255)"
      ],
      "metadata": {
        "colab": {
          "base_uri": "https://localhost:8080/"
        },
        "id": "UUOws8i6KnxJ",
        "outputId": "2d03aa71-31cc-41be-dcf5-205e482d3339"
      },
      "execution_count": null,
      "outputs": [
        {
          "output_type": "stream",
          "name": "stdout",
          "text": [
            "Found 624 files belonging to 2 classes.\n"
          ]
        }
      ]
    },
    {
      "cell_type": "markdown",
      "source": [
        "# Part 2 - Building the CNN"
      ],
      "metadata": {
        "id": "GPQTOqhJOT8V"
      }
    },
    {
      "cell_type": "markdown",
      "source": [
        "initializing the CNN"
      ],
      "metadata": {
        "id": "ueN1PfZZOasJ"
      }
    },
    {
      "cell_type": "code",
      "source": [
        "cnn = tf.keras.Sequential()"
      ],
      "metadata": {
        "id": "Os9wz2d6OgZX"
      },
      "execution_count": null,
      "outputs": []
    },
    {
      "cell_type": "markdown",
      "source": [
        "Step 1 - Convolution"
      ],
      "metadata": {
        "id": "sbc2qRaJO365"
      }
    },
    {
      "cell_type": "code",
      "source": [
        "cnn.add(tf.keras.layers.Conv2D(filters=32, kernel_size=3, activation='relu', input_shape=[64, 64, 3]))"
      ],
      "metadata": {
        "colab": {
          "base_uri": "https://localhost:8080/"
        },
        "id": "SJY1TfcuO9IV",
        "outputId": "0b806c97-33bc-4d17-acb6-8c165ac8048b"
      },
      "execution_count": null,
      "outputs": [
        {
          "output_type": "stream",
          "name": "stderr",
          "text": [
            "/usr/local/lib/python3.11/dist-packages/keras/src/layers/convolutional/base_conv.py:107: UserWarning: Do not pass an `input_shape`/`input_dim` argument to a layer. When using Sequential models, prefer using an `Input(shape)` object as the first layer in the model instead.\n",
            "  super().__init__(activity_regularizer=activity_regularizer, **kwargs)\n"
          ]
        }
      ]
    },
    {
      "cell_type": "markdown",
      "source": [
        "Step 2 - Pooling"
      ],
      "metadata": {
        "id": "P3ILIn5CRWNp"
      }
    },
    {
      "cell_type": "code",
      "source": [
        "cnn.add(tf.keras.layers.MaxPool2D(pool_size=2, strides=2))"
      ],
      "metadata": {
        "id": "X0hTGSuFRah1"
      },
      "execution_count": null,
      "outputs": []
    },
    {
      "cell_type": "markdown",
      "source": [
        "adding a second convolutional layer"
      ],
      "metadata": {
        "id": "jv0nuPYaSvIz"
      }
    },
    {
      "cell_type": "code",
      "source": [
        "cnn.add(tf.keras.layers.Conv2D(filters=32, kernel_size=3, activation='relu'))\n",
        "cnn.add(tf.keras.layers.MaxPool2D(pool_size=2, strides=2))"
      ],
      "metadata": {
        "id": "xRi9Xbc5S1RH"
      },
      "execution_count": null,
      "outputs": []
    },
    {
      "cell_type": "markdown",
      "source": [
        "Step 3 - Flattening"
      ],
      "metadata": {
        "id": "bxvmEPtHTZ34"
      }
    },
    {
      "cell_type": "code",
      "source": [
        "cnn.add(tf.keras.layers.Flatten())"
      ],
      "metadata": {
        "id": "XnMUPFGRTf_Y"
      },
      "execution_count": null,
      "outputs": []
    },
    {
      "cell_type": "markdown",
      "source": [
        "Step 4 - Full Connection"
      ],
      "metadata": {
        "id": "VJ7JYX3pTpUM"
      }
    },
    {
      "cell_type": "code",
      "source": [
        "cnn.add(tf.keras.layers.Dense(units=128, activation='relu'))"
      ],
      "metadata": {
        "id": "9HmrpIoSTzBd"
      },
      "execution_count": null,
      "outputs": []
    },
    {
      "cell_type": "markdown",
      "source": [
        "Step 5 - Output Layer"
      ],
      "metadata": {
        "id": "LswPF3HgUGEC"
      }
    },
    {
      "cell_type": "code",
      "source": [
        "cnn.add(tf.keras.layers.Dense(units=1, activation='sigmoid'))"
      ],
      "metadata": {
        "id": "gR600T3RULdE"
      },
      "execution_count": null,
      "outputs": []
    },
    {
      "cell_type": "markdown",
      "source": [
        "# Part 3 - Training the CNN"
      ],
      "metadata": {
        "id": "W4NEb4FTU7xo"
      }
    },
    {
      "cell_type": "markdown",
      "source": [
        "compiling the CNN"
      ],
      "metadata": {
        "id": "N_AdNf_1VB86"
      }
    },
    {
      "cell_type": "code",
      "source": [
        "cnn.compile(optimizer='adam', loss='binary_crossentropy', metrics=['accuracy'])"
      ],
      "metadata": {
        "id": "_E0m9BRnVF_O"
      },
      "execution_count": null,
      "outputs": []
    },
    {
      "cell_type": "markdown",
      "source": [
        "Training the CNN on the Training set and evaluating it on the Test set"
      ],
      "metadata": {
        "id": "qc8Ts_woWCD3"
      }
    },
    {
      "cell_type": "code",
      "source": [
        "cnn.fit(x=training_set, validation_data=test_set, epochs=25)"
      ],
      "metadata": {
        "colab": {
          "base_uri": "https://localhost:8080/"
        },
        "id": "N8h4JeH-WNtD",
        "outputId": "a6b2f227-aae5-4221-b633-7130847c6d64"
      },
      "execution_count": null,
      "outputs": [
        {
          "metadata": {
            "tags": null
          },
          "name": "stdout",
          "output_type": "stream",
          "text": [
            "Epoch 1/25\n",
            "\u001b[1m163/163\u001b[0m \u001b[32m━━━━━━━━━━━━━━━━━━━━\u001b[0m\u001b[37m\u001b[0m \u001b[1m1064s\u001b[0m 7s/step - accuracy: 0.8005 - loss: 12.5256 - val_accuracy: 0.8157 - val_loss: 0.4338\n",
            "Epoch 2/25\n",
            "\u001b[1m163/163\u001b[0m \u001b[32m━━━━━━━━━━━━━━━━━━━━\u001b[0m\u001b[37m\u001b[0m \u001b[1m86s\u001b[0m 526ms/step - accuracy: 0.9469 - loss: 0.1435 - val_accuracy: 0.7676 - val_loss: 0.8564\n",
            "Epoch 3/25\n",
            "\u001b[1m163/163\u001b[0m \u001b[32m━━━━━━━━━━━━━━━━━━━━\u001b[0m\u001b[37m\u001b[0m \u001b[1m129s\u001b[0m 448ms/step - accuracy: 0.9696 - loss: 0.0863 - val_accuracy: 0.7468 - val_loss: 1.1231\n",
            "Epoch 4/25\n",
            "\u001b[1m163/163\u001b[0m \u001b[32m━━━━━━━━━━━━━━━━━━━━\u001b[0m\u001b[37m\u001b[0m \u001b[1m82s\u001b[0m 449ms/step - accuracy: 0.9794 - loss: 0.0599 - val_accuracy: 0.7580 - val_loss: 1.2485\n",
            "Epoch 5/25\n",
            "\u001b[1m163/163\u001b[0m \u001b[32m━━━━━━━━━━━━━━━━━━━━\u001b[0m\u001b[37m\u001b[0m \u001b[1m84s\u001b[0m 461ms/step - accuracy: 0.9795 - loss: 0.0588 - val_accuracy: 0.7564 - val_loss: 1.4332\n",
            "Epoch 6/25\n",
            "\u001b[1m163/163\u001b[0m \u001b[32m━━━━━━━━━━━━━━━━━━━━\u001b[0m\u001b[37m\u001b[0m \u001b[1m80s\u001b[0m 449ms/step - accuracy: 0.9859 - loss: 0.0371 - val_accuracy: 0.7388 - val_loss: 1.1725\n",
            "Epoch 7/25\n",
            "\u001b[1m163/163\u001b[0m \u001b[32m━━━━━━━━━━━━━━━━━━━━\u001b[0m\u001b[37m\u001b[0m \u001b[1m79s\u001b[0m 482ms/step - accuracy: 0.9824 - loss: 0.0534 - val_accuracy: 0.7035 - val_loss: 1.6921\n",
            "Epoch 8/25\n",
            "\u001b[1m163/163\u001b[0m \u001b[32m━━━━━━━━━━━━━━━━━━━━\u001b[0m\u001b[37m\u001b[0m \u001b[1m74s\u001b[0m 453ms/step - accuracy: 0.9759 - loss: 0.0610 - val_accuracy: 0.7196 - val_loss: 1.5140\n",
            "Epoch 9/25\n",
            "\u001b[1m163/163\u001b[0m \u001b[32m━━━━━━━━━━━━━━━━━━━━\u001b[0m\u001b[37m\u001b[0m \u001b[1m77s\u001b[0m 474ms/step - accuracy: 0.9789 - loss: 0.0653 - val_accuracy: 0.7484 - val_loss: 1.6663\n",
            "Epoch 10/25\n",
            "\u001b[1m163/163\u001b[0m \u001b[32m━━━━━━━━━━━━━━━━━━━━\u001b[0m\u001b[37m\u001b[0m \u001b[1m77s\u001b[0m 444ms/step - accuracy: 0.9840 - loss: 0.0408 - val_accuracy: 0.7708 - val_loss: 1.6395\n",
            "Epoch 11/25\n",
            "\u001b[1m163/163\u001b[0m \u001b[32m━━━━━━━━━━━━━━━━━━━━\u001b[0m\u001b[37m\u001b[0m \u001b[1m75s\u001b[0m 460ms/step - accuracy: 0.9871 - loss: 0.0384 - val_accuracy: 0.7260 - val_loss: 3.2573\n",
            "Epoch 12/25\n",
            "\u001b[1m163/163\u001b[0m \u001b[32m━━━━━━━━━━━━━━━━━━━━\u001b[0m\u001b[37m\u001b[0m \u001b[1m80s\u001b[0m 444ms/step - accuracy: 0.9794 - loss: 0.0684 - val_accuracy: 0.7692 - val_loss: 1.4886\n",
            "Epoch 13/25\n",
            "\u001b[1m163/163\u001b[0m \u001b[32m━━━━━━━━━━━━━━━━━━━━\u001b[0m\u001b[37m\u001b[0m \u001b[1m86s\u001b[0m 472ms/step - accuracy: 0.9864 - loss: 0.0364 - val_accuracy: 0.7212 - val_loss: 2.3808\n",
            "Epoch 14/25\n",
            "\u001b[1m163/163\u001b[0m \u001b[32m━━━━━━━━━━━━━━━━━━━━\u001b[0m\u001b[37m\u001b[0m \u001b[1m79s\u001b[0m 454ms/step - accuracy: 0.9864 - loss: 0.0465 - val_accuracy: 0.7436 - val_loss: 2.5181\n",
            "Epoch 15/25\n",
            "\u001b[1m163/163\u001b[0m \u001b[32m━━━━━━━━━━━━━━━━━━━━\u001b[0m\u001b[37m\u001b[0m \u001b[1m79s\u001b[0m 435ms/step - accuracy: 0.9898 - loss: 0.0246 - val_accuracy: 0.7308 - val_loss: 2.5761\n",
            "Epoch 16/25\n",
            "\u001b[1m163/163\u001b[0m \u001b[32m━━━━━━━━━━━━━━━━━━━━\u001b[0m\u001b[37m\u001b[0m \u001b[1m85s\u001b[0m 452ms/step - accuracy: 0.9917 - loss: 0.0245 - val_accuracy: 0.7420 - val_loss: 2.7454\n",
            "Epoch 17/25\n",
            "\u001b[1m163/163\u001b[0m \u001b[32m━━━━━━━━━━━━━━━━━━━━\u001b[0m\u001b[37m\u001b[0m \u001b[1m76s\u001b[0m 465ms/step - accuracy: 0.9978 - loss: 0.0085 - val_accuracy: 0.7452 - val_loss: 2.9540\n",
            "Epoch 18/25\n",
            "\u001b[1m163/163\u001b[0m \u001b[32m━━━━━━━━━━━━━━━━━━━━\u001b[0m\u001b[37m\u001b[0m \u001b[1m77s\u001b[0m 433ms/step - accuracy: 0.9991 - loss: 0.0041 - val_accuracy: 0.7372 - val_loss: 3.4462\n",
            "Epoch 19/25\n",
            "\u001b[1m163/163\u001b[0m \u001b[32m━━━━━━━━━━━━━━━━━━━━\u001b[0m\u001b[37m\u001b[0m \u001b[1m85s\u001b[0m 452ms/step - accuracy: 0.9991 - loss: 0.0038 - val_accuracy: 0.7260 - val_loss: 3.9765\n",
            "Epoch 20/25\n",
            "\u001b[1m163/163\u001b[0m \u001b[32m━━━━━━━━━━━━━━━━━━━━\u001b[0m\u001b[37m\u001b[0m \u001b[1m70s\u001b[0m 427ms/step - accuracy: 0.9949 - loss: 0.0158 - val_accuracy: 0.8157 - val_loss: 1.0530\n",
            "Epoch 21/25\n",
            "\u001b[1m163/163\u001b[0m \u001b[32m━━━━━━━━━━━━━━━━━━━━\u001b[0m\u001b[37m\u001b[0m \u001b[1m97s\u001b[0m 517ms/step - accuracy: 0.9698 - loss: 0.0882 - val_accuracy: 0.8141 - val_loss: 1.1711\n",
            "Epoch 22/25\n",
            "\u001b[1m163/163\u001b[0m \u001b[32m━━━━━━━━━━━━━━━━━━━━\u001b[0m\u001b[37m\u001b[0m \u001b[1m143s\u001b[0m 524ms/step - accuracy: 0.9859 - loss: 0.0385 - val_accuracy: 0.7372 - val_loss: 2.2859\n",
            "Epoch 23/25\n",
            "\u001b[1m163/163\u001b[0m \u001b[32m━━━━━━━━━━━━━━━━━━━━\u001b[0m\u001b[37m\u001b[0m \u001b[1m138s\u001b[0m 500ms/step - accuracy: 0.9923 - loss: 0.0242 - val_accuracy: 0.7147 - val_loss: 3.4209\n",
            "Epoch 24/25\n",
            "\u001b[1m163/163\u001b[0m \u001b[32m━━━━━━━━━━━━━━━━━━━━\u001b[0m\u001b[37m\u001b[0m \u001b[1m75s\u001b[0m 456ms/step - accuracy: 0.9937 - loss: 0.0170 - val_accuracy: 0.7596 - val_loss: 3.1374\n",
            "Epoch 25/25\n",
            "\u001b[1m163/163\u001b[0m \u001b[32m━━━━━━━━━━━━━━━━━━━━\u001b[0m\u001b[37m\u001b[0m \u001b[1m75s\u001b[0m 457ms/step - accuracy: 0.9951 - loss: 0.0138 - val_accuracy: 0.8045 - val_loss: 1.6882\n"
          ]
        },
        {
          "data": {
            "text/plain": [
              "<keras.src.callbacks.history.History at 0x793c12ff3fd0>"
            ]
          },
          "execution_count": 15,
          "metadata": {},
          "output_type": "execute_result"
        }
      ]
    },
    {
      "cell_type": "markdown",
      "source": [
        "# Part 4 - Making a Single Prediction"
      ],
      "metadata": {
        "id": "-LHV_GjgX-3C"
      }
    },
    {
      "cell_type": "code",
      "source": [
        "import numpy as np\n",
        "from keras.preprocessing import image\n",
        "import os\n",
        "\n",
        "current_directory = os.getcwd()\n",
        "test_image = image.load_img('/content/drive/MyDrive/Training/Dataset/Medical X-Ray Image Classifier Pneumonia Detection/chest_xray/test/PNEUMONIA/person100_bacteria_482.jpeg', target_size=(64, 64))\n",
        "\n",
        "test_image = image.img_to_array(test_image)\n",
        "test_image = np.expand_dims(test_image, axis=0)\n",
        "result = cnn.predict(test_image)\n",
        "class_indices = {'NORMAL': 0, 'PNEUMONIA': 1}  # Manually define class indices if `training_set` is not available\n",
        "#training_set.class_indices\n",
        "if result[0][0] == 1:\n",
        "  prediction = 'NORMAL'\n",
        "else:\n",
        "  prediction = 'PNEUMONIA'\n"
      ],
      "metadata": {
        "colab": {
          "base_uri": "https://localhost:8080/"
        },
        "id": "cFQLEATtrMik",
        "outputId": "8ff6b3f1-9e4a-4413-9f9e-6a61e36bbfbf"
      },
      "execution_count": null,
      "outputs": [
        {
          "output_type": "stream",
          "name": "stdout",
          "text": [
            "\u001b[1m1/1\u001b[0m \u001b[32m━━━━━━━━━━━━━━━━━━━━\u001b[0m\u001b[37m\u001b[0m \u001b[1m0s\u001b[0m 64ms/step\n"
          ]
        }
      ]
    },
    {
      "cell_type": "code",
      "source": [
        "print(prediction)"
      ],
      "metadata": {
        "id": "ybm8xKG6dFm8",
        "colab": {
          "base_uri": "https://localhost:8080/"
        },
        "outputId": "8da2161d-654c-47ea-f5a8-9a378eb3027e"
      },
      "execution_count": null,
      "outputs": [
        {
          "output_type": "stream",
          "name": "stdout",
          "text": [
            "PNEUMONIA\n"
          ]
        }
      ]
    }
  ]
}