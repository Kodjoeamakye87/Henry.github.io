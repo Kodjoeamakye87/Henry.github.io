{
  "nbformat": 4,
  "nbformat_minor": 0,
  "metadata": {
    "colab": {
      "provenance": [],
      "authorship_tag": "ABX9TyOXbPdpBKFhCLHGsdjsYcgH",
      "include_colab_link": true
    },
    "kernelspec": {
      "name": "python3",
      "display_name": "Python 3"
    },
    "language_info": {
      "name": "python"
    }
  },
  "cells": [
    {
      "cell_type": "markdown",
      "metadata": {
        "id": "view-in-github",
        "colab_type": "text"
      },
      "source": [
        "<a href=\"https://colab.research.google.com/github/Kodjoeamakye87/Henry.github.io/blob/main/Dataset_versioning_in_WandB_library.ipynb\" target=\"_parent\"><img src=\"https://colab.research.google.com/assets/colab-badge.svg\" alt=\"Open In Colab\"/></a>"
      ]
    },
    {
      "cell_type": "code",
      "execution_count": 4,
      "metadata": {
        "colab": {
          "base_uri": "https://localhost:8080/",
          "height": 438
        },
        "id": "oH9DVCoxCLjl",
        "outputId": "0b2f1915-e7f4-41b8-961b-a3a1bbded499"
      },
      "outputs": [
        {
          "output_type": "display_data",
          "data": {
            "text/plain": [
              "<IPython.core.display.HTML object>"
            ],
            "text/html": [
              "Finishing last run (ID:dwiwzji3) before initializing another..."
            ]
          },
          "metadata": {}
        },
        {
          "output_type": "display_data",
          "data": {
            "text/plain": [
              "<IPython.core.display.HTML object>"
            ],
            "text/html": [
              " View run <strong style=\"color:#cdcd00\">lesson-6-versioning-multiple</strong> at: <a href='https://wandb.ai/henryamakyeansah-pg/mlops-intro/runs/dwiwzji3' target=\"_blank\">https://wandb.ai/henryamakyeansah-pg/mlops-intro/runs/dwiwzji3</a><br/> View project at: <a href='https://wandb.ai/henryamakyeansah-pg/mlops-intro' target=\"_blank\">https://wandb.ai/henryamakyeansah-pg/mlops-intro</a><br/>Synced 5 W&B file(s), 0 media file(s), 2 artifact file(s) and 0 other file(s)"
            ]
          },
          "metadata": {}
        },
        {
          "output_type": "display_data",
          "data": {
            "text/plain": [
              "<IPython.core.display.HTML object>"
            ],
            "text/html": [
              "Find logs at: <code>./wandb/run-20241208_021440-dwiwzji3/logs</code>"
            ]
          },
          "metadata": {}
        },
        {
          "output_type": "display_data",
          "data": {
            "text/plain": [
              "<IPython.core.display.HTML object>"
            ],
            "text/html": [
              "Successfully finished last run (ID:dwiwzji3). Initializing new run:<br/>"
            ]
          },
          "metadata": {}
        },
        {
          "output_type": "display_data",
          "data": {
            "text/plain": [
              "<IPython.core.display.HTML object>"
            ],
            "text/html": [
              "Tracking run with wandb version 0.18.7"
            ]
          },
          "metadata": {}
        },
        {
          "output_type": "display_data",
          "data": {
            "text/plain": [
              "<IPython.core.display.HTML object>"
            ],
            "text/html": [
              "Run data is saved locally in <code>/content/wandb/run-20241208_021453-mc0cew1r</code>"
            ]
          },
          "metadata": {}
        },
        {
          "output_type": "display_data",
          "data": {
            "text/plain": [
              "<IPython.core.display.HTML object>"
            ],
            "text/html": [
              "Syncing run <strong><a href='https://wandb.ai/henryamakyeansah-pg/mlops-intro/runs/mc0cew1r' target=\"_blank\">lesson-6-versioning-multiple</a></strong> to <a href='https://wandb.ai/henryamakyeansah-pg/mlops-intro' target=\"_blank\">Weights & Biases</a> (<a href='https://wandb.me/developer-guide' target=\"_blank\">docs</a>)<br/>"
            ]
          },
          "metadata": {}
        },
        {
          "output_type": "display_data",
          "data": {
            "text/plain": [
              "<IPython.core.display.HTML object>"
            ],
            "text/html": [
              " View project at <a href='https://wandb.ai/henryamakyeansah-pg/mlops-intro' target=\"_blank\">https://wandb.ai/henryamakyeansah-pg/mlops-intro</a>"
            ]
          },
          "metadata": {}
        },
        {
          "output_type": "display_data",
          "data": {
            "text/plain": [
              "<IPython.core.display.HTML object>"
            ],
            "text/html": [
              " View run at <a href='https://wandb.ai/henryamakyeansah-pg/mlops-intro/runs/mc0cew1r' target=\"_blank\">https://wandb.ai/henryamakyeansah-pg/mlops-intro/runs/mc0cew1r</a>"
            ]
          },
          "metadata": {}
        },
        {
          "output_type": "display_data",
          "data": {
            "text/plain": [
              "<IPython.core.display.HTML object>"
            ],
            "text/html": [
              "\n",
              "    <style>\n",
              "        .wandb-row {\n",
              "            display: flex;\n",
              "            flex-direction: row;\n",
              "            flex-wrap: wrap;\n",
              "            justify-content: flex-start;\n",
              "            width: 100%;\n",
              "        }\n",
              "        .wandb-col {\n",
              "            display: flex;\n",
              "            flex-direction: column;\n",
              "            flex-basis: 100%;\n",
              "            flex: 1;\n",
              "            padding: 10px;\n",
              "        }\n",
              "    </style>\n",
              "<div class=\"wandb-row\"><div class=\"wandb-col\"><h3>Run history:</h3><br/><table class=\"wandb\"><tr><td>accuracy_cleaned</td><td>▁</td></tr><tr><td>accuracy_feature_eng</td><td>▁</td></tr><tr><td>accuracy_original</td><td>▁</td></tr></table><br/></div><div class=\"wandb-col\"><h3>Run summary:</h3><br/><table class=\"wandb\"><tr><td>accuracy_cleaned</td><td>1</td></tr><tr><td>accuracy_feature_eng</td><td>1</td></tr><tr><td>accuracy_original</td><td>1</td></tr></table><br/></div></div>"
            ]
          },
          "metadata": {}
        },
        {
          "output_type": "display_data",
          "data": {
            "text/plain": [
              "<IPython.core.display.HTML object>"
            ],
            "text/html": [
              " View run <strong style=\"color:#cdcd00\">lesson-6-versioning-multiple</strong> at: <a href='https://wandb.ai/henryamakyeansah-pg/mlops-intro/runs/mc0cew1r' target=\"_blank\">https://wandb.ai/henryamakyeansah-pg/mlops-intro/runs/mc0cew1r</a><br/> View project at: <a href='https://wandb.ai/henryamakyeansah-pg/mlops-intro' target=\"_blank\">https://wandb.ai/henryamakyeansah-pg/mlops-intro</a><br/>Synced 5 W&B file(s), 0 media file(s), 8 artifact file(s) and 0 other file(s)"
            ]
          },
          "metadata": {}
        },
        {
          "output_type": "display_data",
          "data": {
            "text/plain": [
              "<IPython.core.display.HTML object>"
            ],
            "text/html": [
              "Find logs at: <code>./wandb/run-20241208_021453-mc0cew1r/logs</code>"
            ]
          },
          "metadata": {}
        }
      ],
      "source": [
        "# Import necessary libraries\n",
        "import wandb  # Weights and Biases for experiment tracking\n",
        "import numpy as np\n",
        "import pandas as pd\n",
        "from sklearn import datasets\n",
        "from sklearn.model_selection import train_test_split\n",
        "from sklearn.preprocessing import StandardScaler\n",
        "from sklearn.ensemble import RandomForestClassifier\n",
        "from sklearn.metrics import accuracy_score\n",
        "import joblib\n",
        "\n",
        "# Step 1: Initialize a new WandB run\n",
        "wandb.init(project=\"mlops-intro\", name=\"lesson-6-versioning-multiple\")\n",
        "\n",
        "# Step 2: Load the original dataset\n",
        "iris = datasets.load_iris()\n",
        "X_original = iris.data\n",
        "y = iris.target\n",
        "\n",
        "# Step 3: Log the original dataset to WandB\n",
        "# TODO: Log the original dataset as an artifact to WandB.\n",
        "\n",
        "artifact_original = wandb.Artifact(name=\"iris-dataset-original\", type=\"dataset\")\n",
        "artifact_original.add(wandb.Table(data=X_original, columns=iris.feature_names), \"iris_data\")\n",
        "wandb.log_artifact(artifact_original)\n",
        "\n",
        "# Step 4: Preprocess the dataset (Cleaned Version)\n",
        "scaler = StandardScaler()\n",
        "X_cleaned = scaler.fit_transform(X_original)\n",
        "\n",
        "# TODO: Log the cleaned dataset as a new versioned artifact to WandB.\n",
        "artifact_cleaned = wandb.Artifact(name=\"iris-dataset-cleaned\", type=\"dataset\")\n",
        "artifact_cleaned.add(wandb.Table(data=X_cleaned, columns=iris.feature_names), \"iris_data\")\n",
        "wandb.log_artifact(artifact_cleaned)\n",
        "\n",
        "# Step 5: Feature Engineering (Feature-Engineered Version)\n",
        "X_feature_engineered = np.c_[X_cleaned, X_cleaned[:, 0] * X_cleaned[:, 1]]\n",
        "feature_names = iris.feature_names + [\"feature_0_1_product\"]\n",
        "\n",
        "# TODO: Log the feature-engineered dataset as another versioned artifact to WandB.\n",
        "artifact_feature_eng = wandb.Artifact(name=\"iris-dataset-feature-eng\", type=\"dataset\")\n",
        "artifact_feature_eng.add(wandb.Table(data=X_feature_engineered, columns=feature_names), \"iris_data\")\n",
        "wandb.log_artifact(artifact_feature_eng)\n",
        "\n",
        "# Step 6: Train and Version Multiple Models\n",
        "\n",
        "# Define common hyperparameters\n",
        "hyperparameters = {\n",
        "    \"n_estimators\": 100,\n",
        "    \"max_depth\": 3,\n",
        "    \"random_state\": 42\n",
        "}\n",
        "wandb.config.update(hyperparameters)\n",
        "\n",
        "# Train and log model on original dataset\n",
        "X_train_orig, X_test_orig, y_train, y_test = train_test_split(X_original, y, test_size=0.2, random_state=42)\n",
        "model_original = RandomForestClassifier(**hyperparameters)\n",
        "model_original.fit(X_train_orig, y_train)\n",
        "accuracy_orig = accuracy_score(y_test, model_original.predict(X_test_orig))\n",
        "\n",
        "wandb.log({\"accuracy_original\": accuracy_orig})\n",
        "\n",
        "model_filename_orig = \"rf_model_original.pkl\"\n",
        "joblib.dump(model_original, model_filename_orig)\n",
        "\n",
        "model_artifact_orig = wandb.Artifact(name=\"rf_model_original\", type=\"model\")\n",
        "model_artifact_orig.add_file(model_filename_orig)\n",
        "wandb.log_artifact(model_artifact_orig)\n",
        "\n",
        "# Train and log model on cleaned dataset\n",
        "X_train_cleaned, X_test_cleaned, _, _ = train_test_split(X_cleaned, y, test_size=0.2, random_state=42)\n",
        "model_cleaned = RandomForestClassifier(**hyperparameters)\n",
        "model_cleaned.fit(X_train_cleaned, y_train)\n",
        "accuracy_cleaned = accuracy_score(y_test, model_cleaned.predict(X_test_cleaned))\n",
        "\n",
        "wandb.log({\"accuracy_cleaned\": accuracy_cleaned})\n",
        "\n",
        "model_filename_cleaned = \"rf_model_cleaned.pkl\"\n",
        "joblib.dump(model_cleaned, model_filename_cleaned)\n",
        "\n",
        "# TODO: Log the cleaned model as an artifact to WandB.\n",
        "model_artifact_cleaned = wandb.Artifact(name=\"rf_model_cleaned\", type=\"model\")\n",
        "model_artifact_cleaned.add_file(model_filename_cleaned)\n",
        "wandb.log_artifact(model_artifact_cleaned)\n",
        "\n",
        "# Train and log model on feature-engineered dataset\n",
        "X_train_feat_eng, X_test_feat_eng, _, _ = train_test_split(X_feature_engineered, y, test_size=0.2, random_state=42)\n",
        "model_feat_eng = RandomForestClassifier(**hyperparameters)\n",
        "model_feat_eng.fit(X_train_feat_eng, y_train)\n",
        "accuracy_feat_eng = accuracy_score(y_test, model_feat_eng.predict(X_test_feat_eng))\n",
        "\n",
        "wandb.log({\"accuracy_feature_eng\": accuracy_feat_eng})\n",
        "\n",
        "model_filename_feat_eng = \"rf_model_feature_eng.pkl\"\n",
        "joblib.dump(model_feat_eng, model_filename_feat_eng)\n",
        "\n",
        "# TODO: Log the feature-engineered model as an artifact to WandB.\n",
        "\n",
        "model_artifact_feat_eng = wandb.Artifact(name=\"rf_model_feature_eng\", type=\"model\")\n",
        "model_artifact_feat_eng.add_file(model_filename_feat_eng)\n",
        "wandb.log_artifact(model_artifact_feat_eng)\n",
        "\n",
        "# Step 7: Finish the WandB run\n",
        "wandb.finish()"
      ]
    }
  ]
}